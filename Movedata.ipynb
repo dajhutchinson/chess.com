{
 "cells": [
  {
   "cell_type": "markdown",
   "metadata": {},
   "source": [
    "# Movedata\n",
    "\n",
    "Here I extract information from the `movedata` data supplied in `SAN` data (Standard Algebraic Notation)."
   ]
  },
  {
   "cell_type": "code",
   "execution_count": 1,
   "metadata": {},
   "outputs": [],
   "source": [
    "import re"
   ]
  },
  {
   "cell_type": "code",
   "execution_count": 2,
   "metadata": {},
   "outputs": [],
   "source": [
    "import Fetcher as F\n",
    "import Reader  as R\n",
    "import Helper  as H"
   ]
  },
  {
   "cell_type": "markdown",
   "metadata": {},
   "source": [
    "## Fetch Data"
   ]
  },
  {
   "cell_type": "code",
   "execution_count": 3,
   "metadata": {},
   "outputs": [],
   "source": [
    "df=F.__read_csv(\"data/games.csv\")"
   ]
  },
  {
   "cell_type": "code",
   "execution_count": 4,
   "metadata": {},
   "outputs": [
    {
     "data": {
      "text/html": [
       "<div>\n",
       "<style scoped>\n",
       "    .dataframe tbody tr th:only-of-type {\n",
       "        vertical-align: middle;\n",
       "    }\n",
       "\n",
       "    .dataframe tbody tr th {\n",
       "        vertical-align: top;\n",
       "    }\n",
       "\n",
       "    .dataframe thead th {\n",
       "        text-align: right;\n",
       "    }\n",
       "</style>\n",
       "<table border=\"1\" class=\"dataframe\">\n",
       "  <thead>\n",
       "    <tr style=\"text-align: right;\">\n",
       "      <th></th>\n",
       "      <th>url</th>\n",
       "      <th>pgn</th>\n",
       "      <th>time_control</th>\n",
       "      <th>end_time</th>\n",
       "      <th>rated</th>\n",
       "      <th>fen</th>\n",
       "      <th>time_class</th>\n",
       "      <th>rules</th>\n",
       "      <th>white</th>\n",
       "      <th>black</th>\n",
       "    </tr>\n",
       "  </thead>\n",
       "  <tbody>\n",
       "    <tr>\n",
       "      <th>0</th>\n",
       "      <td>https://www.chess.com/game/live/6009142163</td>\n",
       "      <td>[Event \"Live Chess\"]\\n[Site \"Chess.com\"]\\n[Dat...</td>\n",
       "      <td>600</td>\n",
       "      <td>1608417059</td>\n",
       "      <td>True</td>\n",
       "      <td>rnbqkb1r/1p2pNp1/p1p2n2/8/2BPP2p/8/PP1N1PPP/R1...</td>\n",
       "      <td>rapid</td>\n",
       "      <td>chess</td>\n",
       "      <td>{'rating': 1362, 'result': 'win', '@id': 'http...</td>\n",
       "      <td>{'rating': 1038, 'result': 'abandoned', '@id':...</td>\n",
       "    </tr>\n",
       "    <tr>\n",
       "      <th>1</th>\n",
       "      <td>https://www.chess.com/game/live/6009888217</td>\n",
       "      <td>[Event \"Live Chess\"]\\n[Site \"Chess.com\"]\\n[Dat...</td>\n",
       "      <td>300</td>\n",
       "      <td>1608424220</td>\n",
       "      <td>True</td>\n",
       "      <td>3r3r/6Q1/4pPkp/p5p1/b2B4/5P2/PP1NN1PP/2R1K2R b...</td>\n",
       "      <td>blitz</td>\n",
       "      <td>chess</td>\n",
       "      <td>{'rating': 1184, 'result': 'win', '@id': 'http...</td>\n",
       "      <td>{'rating': 1013, 'result': 'resigned', '@id': ...</td>\n",
       "    </tr>\n",
       "    <tr>\n",
       "      <th>2</th>\n",
       "      <td>https://www.chess.com/game/live/6009910283</td>\n",
       "      <td>[Event \"Live Chess\"]\\n[Site \"Chess.com\"]\\n[Dat...</td>\n",
       "      <td>600</td>\n",
       "      <td>1608424461</td>\n",
       "      <td>True</td>\n",
       "      <td>rnb1k2r/1ppq1ppp/p3p1n1/8/P2N1P2/2b5/3N2PP/R1B...</td>\n",
       "      <td>rapid</td>\n",
       "      <td>chess</td>\n",
       "      <td>{'rating': 1227, 'result': 'resigned', '@id': ...</td>\n",
       "      <td>{'rating': 1390, 'result': 'win', '@id': 'http...</td>\n",
       "    </tr>\n",
       "    <tr>\n",
       "      <th>3</th>\n",
       "      <td>https://www.chess.com/game/live/6010069847</td>\n",
       "      <td>[Event \"Live Chess\"]\\n[Site \"Chess.com\"]\\n[Dat...</td>\n",
       "      <td>600</td>\n",
       "      <td>1608427285</td>\n",
       "      <td>True</td>\n",
       "      <td>8/5pR1/3k4/8/P4P2/bP4P1/6nP/K2N4 b - -</td>\n",
       "      <td>rapid</td>\n",
       "      <td>chess</td>\n",
       "      <td>{'rating': 1383, 'result': 'win', '@id': 'http...</td>\n",
       "      <td>{'rating': 1142, 'result': 'resigned', '@id': ...</td>\n",
       "    </tr>\n",
       "    <tr>\n",
       "      <th>4</th>\n",
       "      <td>https://www.chess.com/game/live/6010223804</td>\n",
       "      <td>[Event \"Live Chess\"]\\n[Site \"Chess.com\"]\\n[Dat...</td>\n",
       "      <td>600</td>\n",
       "      <td>1608428926</td>\n",
       "      <td>True</td>\n",
       "      <td>8/8/P1n2rpk/4p2p/3bP3/1K6/6PP/3R4 b - -</td>\n",
       "      <td>rapid</td>\n",
       "      <td>chess</td>\n",
       "      <td>{'rating': 1032, 'result': 'resigned', '@id': ...</td>\n",
       "      <td>{'rating': 1081, 'result': 'win', '@id': 'http...</td>\n",
       "    </tr>\n",
       "  </tbody>\n",
       "</table>\n",
       "</div>"
      ],
      "text/plain": [
       "                                          url  \\\n",
       "0  https://www.chess.com/game/live/6009142163   \n",
       "1  https://www.chess.com/game/live/6009888217   \n",
       "2  https://www.chess.com/game/live/6009910283   \n",
       "3  https://www.chess.com/game/live/6010069847   \n",
       "4  https://www.chess.com/game/live/6010223804   \n",
       "\n",
       "                                                 pgn  time_control  \\\n",
       "0  [Event \"Live Chess\"]\\n[Site \"Chess.com\"]\\n[Dat...           600   \n",
       "1  [Event \"Live Chess\"]\\n[Site \"Chess.com\"]\\n[Dat...           300   \n",
       "2  [Event \"Live Chess\"]\\n[Site \"Chess.com\"]\\n[Dat...           600   \n",
       "3  [Event \"Live Chess\"]\\n[Site \"Chess.com\"]\\n[Dat...           600   \n",
       "4  [Event \"Live Chess\"]\\n[Site \"Chess.com\"]\\n[Dat...           600   \n",
       "\n",
       "     end_time  rated                                                fen  \\\n",
       "0  1608417059   True  rnbqkb1r/1p2pNp1/p1p2n2/8/2BPP2p/8/PP1N1PPP/R1...   \n",
       "1  1608424220   True  3r3r/6Q1/4pPkp/p5p1/b2B4/5P2/PP1NN1PP/2R1K2R b...   \n",
       "2  1608424461   True  rnb1k2r/1ppq1ppp/p3p1n1/8/P2N1P2/2b5/3N2PP/R1B...   \n",
       "3  1608427285   True             8/5pR1/3k4/8/P4P2/bP4P1/6nP/K2N4 b - -   \n",
       "4  1608428926   True            8/8/P1n2rpk/4p2p/3bP3/1K6/6PP/3R4 b - -   \n",
       "\n",
       "  time_class  rules                                              white  \\\n",
       "0      rapid  chess  {'rating': 1362, 'result': 'win', '@id': 'http...   \n",
       "1      blitz  chess  {'rating': 1184, 'result': 'win', '@id': 'http...   \n",
       "2      rapid  chess  {'rating': 1227, 'result': 'resigned', '@id': ...   \n",
       "3      rapid  chess  {'rating': 1383, 'result': 'win', '@id': 'http...   \n",
       "4      rapid  chess  {'rating': 1032, 'result': 'resigned', '@id': ...   \n",
       "\n",
       "                                               black  \n",
       "0  {'rating': 1038, 'result': 'abandoned', '@id':...  \n",
       "1  {'rating': 1013, 'result': 'resigned', '@id': ...  \n",
       "2  {'rating': 1390, 'result': 'win', '@id': 'http...  \n",
       "3  {'rating': 1142, 'result': 'resigned', '@id': ...  \n",
       "4  {'rating': 1081, 'result': 'win', '@id': 'http...  "
      ]
     },
     "execution_count": 4,
     "metadata": {},
     "output_type": "execute_result"
    }
   ],
   "source": [
    "df.head()"
   ]
  },
  {
   "cell_type": "code",
   "execution_count": 5,
   "metadata": {},
   "outputs": [],
   "source": [
    "# Example for testing\n",
    "test_pgn_data,test_movetext=R.parse_pgn(df.loc[1,\"pgn\"])"
   ]
  },
  {
   "cell_type": "code",
   "execution_count": 6,
   "metadata": {},
   "outputs": [
    {
     "name": "stdout",
     "output_type": "stream",
     "text": [
      "1. e4 {[%clk 0:05:00]} 1... e6 {[%clk 0:04:56.3]} 2. d4 {[%clk 0:04:59.1]} 2... d5 {[%clk 0:04:54.9]} 3. e5 {[%clk 0:04:58]} 3... Nc6 {[%clk 0:04:51.4]} 4. c3 {[%clk 0:04:56.9]} 4... g5 {[%clk 0:04:45.3]} 5. Be3 {[%clk 0:04:54]} 5... h6 {[%clk 0:04:28.5]} 6. Bd3 {[%clk 0:04:52.5]} 6... Na5 {[%clk 0:04:22.9]} 7. Nd2 {[%clk 0:04:45.4]} 7... Nc4 {[%clk 0:04:11.9]} 8. Bxc4 {[%clk 0:04:44.3]} 8... dxc4 {[%clk 0:04:10.4]} 9. Nxc4 {[%clk 0:04:44.2]} 9... Ne7 {[%clk 0:03:55.3]} 10. Qd3 {[%clk 0:04:43.3]} 10... Qd5 {[%clk 0:03:49]} 11. Nd2 {[%clk 0:04:41.8]} 11... Nc6 {[%clk 0:03:45]} 12. f3 {[%clk 0:04:40.7]} 12... Qxd4 {[%clk 0:03:38.7]} 13. cxd4 {[%clk 0:04:31.3]} 13... Nxd4 {[%clk 0:03:36.6]} 14. Bxd4 {[%clk 0:04:30.1]} 14... Bb4 {[%clk 0:03:26.4]} 15. Ne2 {[%clk 0:04:27.4]} 15... f6 {[%clk 0:03:16.7]} 16. Qb5+ {[%clk 0:04:26.2]} 16... Bd7 {[%clk 0:03:03.8]} 17. Qxb4 {[%clk 0:04:26.1]} 17... a5 {[%clk 0:02:58.3]} 18. Qxb7 {[%clk 0:04:22.5]} 18... Rd8 {[%clk 0:02:44.9]} 19. exf6 {[%clk 0:04:14.2]} 19... Kf7 {[%clk 0:02:34.3]} 20. Rc1 {[%clk 0:04:11.7]} 20... Ba4 {[%clk 0:02:28.2]} 21. Qxc7+ {[%clk 0:04:10.1]} 21... Kg6 {[%clk 0:02:23.7]} 22. Qg7+ {[%clk 0:04:08.4]} 1-0\n"
     ]
    }
   ],
   "source": [
    "print(test_movetext)"
   ]
  },
  {
   "cell_type": "markdown",
   "metadata": {},
   "source": [
    "## Parse Movedata"
   ]
  },
  {
   "cell_type": "code",
   "execution_count": 7,
   "metadata": {},
   "outputs": [],
   "source": [
    "# extract\n",
    "white_moves_text=re.findall(\"(?<=\\d\\.{1}\\s).*?(?=\\})\",test_movetext)\n",
    "white_moves_text=[x+\"}\" for x in white_moves_text]\n",
    "\n",
    "black_moves_text=re.findall(\"(?<=\\d\\.{3}\\s).*?(?=\\})\",test_movetext)\n",
    "black_moves_text=[x+\"}\" for x in black_moves_text]\n",
    "\n",
    "moves_text=[v for x in zip(white_moves_text,black_moves_text) for v in x]\n",
    "if len(white_moves_text)>len(black_moves_text): moves_text+=[white_moves_text[-1]]"
   ]
  },
  {
   "cell_type": "code",
   "execution_count": 8,
   "metadata": {},
   "outputs": [
    {
     "name": "stdout",
     "output_type": "stream",
     "text": [
      "1 e4 {[%clk 0:05:00]}\n",
      "1 e6 {[%clk 0:04:56.3]}\n",
      "2 d4 {[%clk 0:04:59.1]}\n",
      "2 d5 {[%clk 0:04:54.9]}\n",
      "3 e5 {[%clk 0:04:58]}\n",
      "3 Nc6 {[%clk 0:04:51.4]}\n",
      "4 c3 {[%clk 0:04:56.9]}\n",
      "4 g5 {[%clk 0:04:45.3]}\n",
      "5 Be3 {[%clk 0:04:54]}\n",
      "5 h6 {[%clk 0:04:28.5]}\n",
      "6 Bd3 {[%clk 0:04:52.5]}\n",
      "6 Na5 {[%clk 0:04:22.9]}\n",
      "7 Nd2 {[%clk 0:04:45.4]}\n",
      "7 Nc4 {[%clk 0:04:11.9]}\n",
      "8 Bxc4 {[%clk 0:04:44.3]}\n",
      "8 dxc4 {[%clk 0:04:10.4]}\n",
      "9 Nxc4 {[%clk 0:04:44.2]}\n",
      "9 Ne7 {[%clk 0:03:55.3]}\n",
      "10 Qd3 {[%clk 0:04:43.3]}\n",
      "10 Qd5 {[%clk 0:03:49]}\n",
      "11 Nd2 {[%clk 0:04:41.8]}\n",
      "11 Nc6 {[%clk 0:03:45]}\n",
      "12 f3 {[%clk 0:04:40.7]}\n",
      "12 Qxd4 {[%clk 0:03:38.7]}\n",
      "13 cxd4 {[%clk 0:04:31.3]}\n",
      "13 Nxd4 {[%clk 0:03:36.6]}\n",
      "14 Bxd4 {[%clk 0:04:30.1]}\n",
      "14 Bb4 {[%clk 0:03:26.4]}\n",
      "15 Ne2 {[%clk 0:04:27.4]}\n",
      "15 f6 {[%clk 0:03:16.7]}\n",
      "16 Qb5+ {[%clk 0:04:26.2]}\n",
      "16 Bd7 {[%clk 0:03:03.8]}\n",
      "17 Qxb4 {[%clk 0:04:26.1]}\n",
      "17 a5 {[%clk 0:02:58.3]}\n",
      "18 Qxb7 {[%clk 0:04:22.5]}\n",
      "18 Rd8 {[%clk 0:02:44.9]}\n",
      "19 exf6 {[%clk 0:04:14.2]}\n",
      "19 Kf7 {[%clk 0:02:34.3]}\n",
      "20 Rc1 {[%clk 0:04:11.7]}\n",
      "20 Ba4 {[%clk 0:02:28.2]}\n",
      "21 Qxc7+ {[%clk 0:04:10.1]}\n",
      "21 Kg6 {[%clk 0:02:23.7]}\n",
      "22 Qg7+ {[%clk 0:04:08.4]}\n"
     ]
    }
   ],
   "source": [
    "for i,t in enumerate(moves_text):\n",
    "    print((i+2)//2,t)"
   ]
  },
  {
   "cell_type": "markdown",
   "metadata": {},
   "source": [
    "## Parse Move"
   ]
  },
  {
   "cell_type": "code",
   "execution_count": 9,
   "metadata": {},
   "outputs": [
    {
     "data": {
      "text/plain": [
       "{'K': 'king', 'Q': 'queen', 'R': 'rook', 'B': 'bishop', 'N': 'knight'}"
      ]
     },
     "execution_count": 9,
     "metadata": {},
     "output_type": "execute_result"
    }
   ],
   "source": [
    "H.pieces_dict"
   ]
  },
  {
   "cell_type": "code",
   "execution_count": 10,
   "metadata": {},
   "outputs": [
    {
     "data": {
      "text/plain": [
       "{'O-O': 'kingside castling', 'O-O-O': 'queenside castling'}"
      ]
     },
     "execution_count": 10,
     "metadata": {},
     "output_type": "execute_result"
    }
   ],
   "source": [
    "H.special_move_dict"
   ]
  },
  {
   "cell_type": "code",
   "execution_count": 11,
   "metadata": {},
   "outputs": [],
   "source": [
    "# identify special cases\n",
    "def special_move(text):\n",
    "    if text in H.special_move_dict: return H.special_move_dict[text]\n",
    "    else:\n",
    "        return None"
   ]
  },
  {
   "cell_type": "code",
   "execution_count": 12,
   "metadata": {},
   "outputs": [],
   "source": [
    "# identify piece being moved\n",
    "def identify_piece(text) -> str:\n",
    "    if text[0] in H.pieces_dict: return H.pieces_dict[text[0]]\n",
    "    return \"pawn\""
   ]
  },
  {
   "cell_type": "code",
   "execution_count": 13,
   "metadata": {},
   "outputs": [],
   "source": [
    "# return whether a check has occurred\n",
    "def check(text) -> bool:\n",
    "    return (\"+\" in text) or (\"#\" in text)"
   ]
  },
  {
   "cell_type": "code",
   "execution_count": 14,
   "metadata": {},
   "outputs": [],
   "source": [
    "# return whether a checkmate has occurred\n",
    "def checkmate(text) -> bool:\n",
    "    return \"#\" in text"
   ]
  },
  {
   "cell_type": "code",
   "execution_count": 15,
   "metadata": {},
   "outputs": [],
   "source": [
    "# return whether the piece took another piece\n",
    "def take(text) -> bool:\n",
    "    return \"x\" in text"
   ]
  },
  {
   "cell_type": "code",
   "execution_count": 16,
   "metadata": {},
   "outputs": [],
   "source": [
    "# identify whether a pawn was promoted (if so, to what piece)\n",
    "def promotion(text):\n",
    "    if \"=\" not in text: return None\n",
    "    else:\n",
    "        promotion_c=re.findall(\"(?<=\\=).+?\",text)[0]\n",
    "        return H.pieces_dict[promotion_c]\n",
    "    \n",
    "# promotion(\"g4=Q\"),promotion(\"g4\"),promotion(\"g4+\"),promotion(\"gxf3\")"
   ]
  },
  {
   "cell_type": "code",
   "execution_count": 75,
   "metadata": {},
   "outputs": [],
   "source": [
    "# extract extra info when two pieces of the same type can move to the same position (pawn ambiguity impossible)\n",
    "def ambiguity(text):\n",
    "    if \"x\" in text:\n",
    "        occurences=re.findall(\".{4}(?=\\d)\",text)\n",
    "        if len(occurences)==0: return None\n",
    "        else: return occurences[0][1]\n",
    "    else:\n",
    "        occurences=re.findall(\".{3}(?=\\d)\",text)   \n",
    "        if len(occurences)==0: return None\n",
    "        else: return occurences[0][1]"
   ]
  },
  {
   "cell_type": "code",
   "execution_count": 18,
   "metadata": {},
   "outputs": [],
   "source": [
    "# identify location of piece at end of move\n",
    "def end_position(text) -> str:\n",
    "    for c in [\"+\",\"#\"]: # remove special end notation\n",
    "        text=text.replace(c,\"\")\n",
    "    if \"=\" in text: # remove promotion text\n",
    "        text=re.findall(\".+?(?=\\=[QRBN])\",text)[0]\n",
    "    return text[-2:]"
   ]
  },
  {
   "cell_type": "code",
   "execution_count": 19,
   "metadata": {},
   "outputs": [],
   "source": [
    "# parse details about move to dictionary\n",
    "def parse_move_text(text) -> dict:\n",
    "    details={}\n",
    "    details[\"piece\"]=identify_piece(text)\n",
    "    details[\"end_position\"]=end_position(text)\n",
    "    details[\"check\"]=check(text)\n",
    "    details[\"checkmate\"]=checkmate(text)\n",
    "    details[\"take\"]=take(text)\n",
    "    \n",
    "    p_dets=promotion(text)\n",
    "    details[\"promotion\"]= False if (not p_dets) else True\n",
    "    details[\"promoted_to\"]=p_dets\n",
    "    \n",
    "    details[\"ambiguity\"]=ambiguity(text)\n",
    "    \n",
    "    if (details[\"piece\"]==\"pawn\") and (details[\"take\"]==True): details[\"ambiguity\"]=text[0]\n",
    "    return details"
   ]
  },
  {
   "cell_type": "code",
   "execution_count": 80,
   "metadata": {},
   "outputs": [
    {
     "data": {
      "text/plain": [
       "{'piece': 'queen',\n",
       " 'end_position': 'd3',\n",
       " 'check': False,\n",
       " 'checkmate': False,\n",
       " 'take': False,\n",
       " 'promotion': False,\n",
       " 'promoted_to': None,\n",
       " 'ambiguity': None}"
      ]
     },
     "execution_count": 80,
     "metadata": {},
     "output_type": "execute_result"
    }
   ],
   "source": [
    "parse_move_text(\"Qd3\")"
   ]
  },
  {
   "cell_type": "code",
   "execution_count": 21,
   "metadata": {},
   "outputs": [],
   "source": [
    "# parse details of every move\n",
    "colour=\"white\"\n",
    "move_i=1\n",
    "details=[]\n",
    "for s in moves_text:\n",
    "    text=re.findall(\".*?(?=\\s)\",s)[0] # extract move text\n",
    "    \n",
    "    move_details=parse_move_text(text)\n",
    "    move_details[\"move_number\"]=move_i # add details\n",
    "    move_details[\"player_colour\"]=colour\n",
    "    \n",
    "    # add to list\n",
    "    details.append(move_details)\n",
    "    \n",
    "    # step values\n",
    "    colour=\"black\" if (colour==\"white\") else \"white\"\n",
    "    if (colour==\"white\"): move_i+=1"
   ]
  },
  {
   "cell_type": "markdown",
   "metadata": {},
   "source": [
    "## Track Pieces"
   ]
  },
  {
   "cell_type": "code",
   "execution_count": 45,
   "metadata": {},
   "outputs": [],
   "source": [
    "# initial positions of each piece\n",
    "start_positions={\n",
    "    \"white_pawn_a\":(\"a\",2), # white pawn which starts on \"a\" rank\n",
    "    \"white_pawn_b\":(\"b\",2),\n",
    "    \"white_pawn_c\":(\"c\",2),\n",
    "    \"white_pawn_d\":(\"d\",2),\n",
    "    \"white_pawn_e\":(\"e\",2),\n",
    "    \"white_pawn_f\":(\"f\",2),\n",
    "    \"white_pawn_g\":(\"g\",2),\n",
    "    \"white_pawn_h\":(\"h\",2),\n",
    "    \"white_rook_b\":(\"a\",1), # white rook which starts on black square\n",
    "    \"white_knight_w\":(\"b\",1), # white knight which starts on white square\n",
    "    \"white_bishop_b\":(\"c\",1),\n",
    "    \"white_queen\":(\"d\",1),\n",
    "    \"white_king\":(\"e\",1),\n",
    "    \"white_bishop_w\":(\"f\",1),\n",
    "    \"white_knight_b\":(\"g\",1),\n",
    "    \"white_rook_w\":(\"h\",1),\n",
    "    \n",
    "    \"black_pawn_a\":(\"a\",7),\n",
    "    \"black_pawn_b\":(\"b\",7),\n",
    "    \"black_pawn_c\":(\"c\",7),\n",
    "    \"black_pawn_d\":(\"d\",7),\n",
    "    \"black_pawn_e\":(\"e\",7),\n",
    "    \"black_pawn_f\":(\"f\",7),\n",
    "    \"black_pawn_g\":(\"g\",7),\n",
    "    \"black_pawn_h\":(\"h\",7),\n",
    "    \"black_rook_b\":(\"h\",8), # black rook which starts on black square\n",
    "    \"black_knight_w\":(\"g\",8), # black knight which starts on white square\n",
    "    \"black_bishop_b\":(\"f\",1),\n",
    "    \"black_queen\":(\"d\",8),\n",
    "    \"black_king\":(\"e\",8),\n",
    "    \"black_bishop_w\":(\"c\",8),\n",
    "    \"black_knight_b\":(\"b\",8),\n",
    "    \"black_rook_w\":(\"a\",8)\n",
    "}"
   ]
  },
  {
   "cell_type": "code",
   "execution_count": 23,
   "metadata": {},
   "outputs": [],
   "source": [
    "def position_to_tuple(s:str) -> (str,int):\n",
    "    return (s[0],int(s[1]))"
   ]
  },
  {
   "cell_type": "code",
   "execution_count": 24,
   "metadata": {},
   "outputs": [],
   "source": [
    "# determine if a square is black or not\n",
    "def black_square(position:(str,int)) -> bool:\n",
    "    file_val=ord(position[0])-ord(\"a\")+1\n",
    "    x=(file_val+position[1])%2\n",
    "    return True if (x==0) else False"
   ]
  },
  {
   "cell_type": "code",
   "execution_count": 25,
   "metadata": {},
   "outputs": [],
   "source": [
    "# calculate path a rook would take between two positions (exc. start)\n",
    "def rook_path(start_position:(str,int),end_position:(str,int)) -> [(str,int)]:\n",
    "    if start_position[0]==end_position[0]: # same file\n",
    "        l=min(start_position[1],end_position[1])\n",
    "        m=max(start_position[1],end_position[1])\n",
    "        return [(start_position[0],x) for x in range(l+1,m+1)]\n",
    "    \n",
    "    elif start_position[1]==end_position[1]: # same rank\n",
    "        l=min(ord(start_position[0]),ord(end_position[0]))\n",
    "        m=max(ord(start_position[0]),ord(end_position[0]))\n",
    "        return [(chr(x),start_position[1]) for x in range(l+1,m+1)]\n",
    "    else:\n",
    "        return None"
   ]
  },
  {
   "cell_type": "code",
   "execution_count": 26,
   "metadata": {},
   "outputs": [],
   "source": [
    "# determine if it is valid of a given colour to take a given path\n",
    "def is_clear_path(piece_colour:str,path:list,positions):\n",
    "    # check path except end\n",
    "    for x in path[:-1]:\n",
    "        if x in positions.values(): return False\n",
    "    \n",
    "    # no need to take\n",
    "    if path[-1] not in positions.values(): return True\n",
    "    \n",
    "    # need to take (check colour)\n",
    "    for k,v in positions.items():\n",
    "        if (v==path[-1]): # find piece in position\n",
    "            if piece_colour not in k: return True # can take\n",
    "            else: return False # cannot take"
   ]
  },
  {
   "cell_type": "code",
   "execution_count": 27,
   "metadata": {},
   "outputs": [],
   "source": [
    "# identify the possible positions a knight can move to/from\n",
    "#tar=('h',4)\n",
    "def possible_knight_positions(tar) -> list:\n",
    "    file_val=ord(tar[0])-ord(\"a\")+1\n",
    "    rank_val=tar[1]\n",
    "    \n",
    "    possible=[]\n",
    "\n",
    "    for f in [-1,1]:\n",
    "        for r in [-2,2]:\n",
    "            new_file=file_val+f\n",
    "            new_rank=rank_val+r\n",
    "            if (new_file>=1 and new_file<=8) and (new_rank>=1 and new_rank<=8):\n",
    "                pos=(chr(new_file+ord(\"a\")-1),new_rank)\n",
    "                possible+=[pos]\n",
    "\n",
    "    for f in [-2,2]:\n",
    "        for r in [-1,1]:\n",
    "            new_file=file_val+f\n",
    "            new_rank=rank_val+r\n",
    "            if (new_file>=1 and new_file<=8) and (new_rank>=1 and new_rank<=8):\n",
    "                pos=(chr(new_file+ord(\"a\")-1),new_rank)\n",
    "                possible+=[pos]\n",
    "\n",
    "    return set(possible)"
   ]
  },
  {
   "cell_type": "code",
   "execution_count": 172,
   "metadata": {},
   "outputs": [],
   "source": [
    "def identify_pawn(end_position,move_details,positions):\n",
    "    # identify start position\n",
    "    if move_details[\"take\"]:\n",
    "        start_file=move_details[\"ambiguity\"]\n",
    "    else:\n",
    "        start_file=end_position[0]\n",
    "        \n",
    "    piece_name=\"\"\n",
    "    for k,v in positions.items():\n",
    "        if (\"pawn\" in k) and (move_details[\"player_colour\"] in k) and v and (start_file==v[0]):\n",
    "            start_position=v\n",
    "            piece_name=k\n",
    "\n",
    "#     print(\"({}) {} moved from {} to {}\".format(move_details[\"move_number\"],piece_name,start_position,end_position))\n",
    "    \n",
    "    return piece_name,start_position\n",
    "\n",
    "def identify_king_or_queen(end_position,move_details,positions):\n",
    "    piece_name=\"{}_{}\".format(move_details[\"player_colour\"],move_details[\"piece\"])\n",
    "            \n",
    "    # identify start position\n",
    "    start_position=positions[piece_name]\n",
    "\n",
    "#     print(\"({}) {} moved from {} to {}\".format(move_details[\"move_number\"],piece_name,start_position,end_position))\n",
    "    \n",
    "    return piece_name,start_position\n",
    "\n",
    "def identify_rook(end_position,move_details,positions):\n",
    "    cur_rook_positions=[positions[\"{}_rook_w\".format(move_details[\"player_colour\"])],positions[\"{}_rook_b\".format(move_details[\"player_colour\"])]]\n",
    "            \n",
    "    valid_possible_cur=[]\n",
    "    for p in cur_rook_positions:\n",
    "        if (p[0]==end_position[0]) or (p[1]==end_position[1]): valid_possible_cur+=[p]\n",
    "\n",
    "    if (len(valid_possible_cur)==1): start_position=valid_possible_cur[0]\n",
    "    else: # check valid paths\n",
    "        new_valid_possible_cur=[]\n",
    "        for p in valid_possible_cur:\n",
    "            path=rook_path(p,end_position)\n",
    "            if is_clear_path(move_details[\"player_colour\"],path,positions):\n",
    "                new_valid_possible_cur+=[p]\n",
    "        valid_possible_cur=new_valid_possible_cur\n",
    "\n",
    "        if (len(valid_possible_cur)==1):\n",
    "            start_position=valid_possible_cur[0]\n",
    "        else:\n",
    "            a=move_details[\"ambiguity\"]\n",
    "            print(a,valid_possible_cur)\n",
    "            if (ord(\"a\")<=ord(a)) and (ord(a)<=ord(\"h\")): # specifies file (find rook which matches)\n",
    "                for p in valid_possible_cur:\n",
    "                    if (p[0]==a): start_position=p\n",
    "            else: # specifies rank\n",
    "                for p in valid_possible_cur:\n",
    "                    if (p[1]==a): start_position=p\n",
    "\n",
    "    for k,v in positions.items():\n",
    "        if (v==start_position): piece_name=k\n",
    "\n",
    "#     print(\"({}) {} moved from {} to {}\".format(move_details[\"move_number\"],piece_name,start_position,end_position))\n",
    "    \n",
    "    return piece_name,start_position\n",
    "\n",
    "def identify_bishop(end_position,move_details,positions):\n",
    "    # identify specific piece \n",
    "    bishop_type=\"b\" if black_square(end_position) else \"w\"\n",
    "    piece_name=\"{}_{}_{}\".format(move_details[\"player_colour\"],move_details[\"piece\"],bishop_type)\n",
    "\n",
    "    # identify start position\n",
    "    start_position=positions[piece_name]\n",
    "\n",
    "#     print(\"({}) {} moved from {} to {}\".format(move_details[\"move_number\"],piece_name,start_position,end_position))\n",
    "    \n",
    "    return piece_name,start_position\n",
    "\n",
    "def identify_knight(end_position,move_details,positions):\n",
    "    # identify all possible start_position values\n",
    "    poss_positions=possible_knight_positions(end_position)\n",
    "    \n",
    "    # see if any knights match it\n",
    "    valid_possible_curr=[]\n",
    "    tar_name=\"{}_knight\".format(move_details[\"player_colour\"])\n",
    "    \n",
    "    for k,v in positions.items():\n",
    "        if (tar_name in k) and (v in poss_positions):\n",
    "            valid_possible_curr+=[(k,v)]\n",
    "            \n",
    "    if len(valid_possible_curr)==1:\n",
    "        # print(\"({}) {} moved from {} to {}\".format(move_details[\"move_number\"],valid_possible_curr[0][0],valid_possible_curr[0][1],end_position))\n",
    "        return valid_possible_curr[0][0],valid_possible_curr[0][1]\n",
    "    else: # two possible pieces\n",
    "        for (k,v) in valid_possible_curr:\n",
    "            if v[0]==move_details[\"ambiguity\"]:\n",
    "                # print(\"({}) {} moved from {} to {}\".format(move_details[\"move_number\"],k,v,end_position))\n",
    "                return k,v\n",
    "\n",
    "# identify piece from move\n",
    "def identify_start_positions(details,positions) -> \"list(dict),list(dict)\":\n",
    "    \"\"\"\n",
    "    Calculate the start position for each move using `details` from parse_move_text and the initial `positions` of each piece.\n",
    "    \n",
    "    RETURN\n",
    "    list(dict) - extension of details which includes piece name and start position\n",
    "    list(dict) - final board positions\n",
    "    \"\"\"\n",
    "    positions=positions.copy() # copy start positions\n",
    "    extended_details=[] # to record extension of details\n",
    "    \n",
    "    for move_details in details:\n",
    "        # identify end position\n",
    "        end_position=position_to_tuple(move_details[\"end_position\"])\n",
    "        \n",
    "        if move_details[\"piece\"]==\"pawn\":\n",
    "            piece_name,start_position=identify_pawn(end_position,move_details,positions)\n",
    "            \n",
    "        # unique pieces (easy)\n",
    "        if move_details[\"piece\"] in [\"queen\",\"king\"]:\n",
    "            piece_name,start_position=identify_king_or_queen(end_position,move_details,positions)\n",
    "\n",
    "        # pairs\n",
    "        if move_details[\"piece\"]==\"rook\":\n",
    "            piece_name,start_position=identify_rook(end_position,move_details,positions)\n",
    "\n",
    "        if move_details[\"piece\"]==\"bishop\":\n",
    "            piece_name,start_position=identify_bishop(end_position,move_details,positions)\n",
    "\n",
    "        if move_details[\"piece\"]==\"knight\":\n",
    "            piece_name,start_position=identify_knight(end_position,move_details,positions)\n",
    "            \n",
    "        # remove taken piece\n",
    "        if move_details[\"take\"]:\n",
    "            for k in positions:\n",
    "                if (positions[k]==end_position): positions[k]=None\n",
    "            \n",
    "        # update new position\n",
    "        if piece_name: positions[piece_name]=end_position\n",
    "            \n",
    "        # recorded calculated details\n",
    "        e_move_details=dict(move_details)\n",
    "        e_move_details[\"piece_name\"]=piece_name\n",
    "        e_move_details[\"start_position\"]=start_position\n",
    "        e_move_details[\"end_position\"]=end_position\n",
    "        extended_details+=[e_move_details]\n",
    "    \n",
    "    # copy of final piece positions to be returned\n",
    "    final_positions=positions.copy()\n",
    "        \n",
    "    return extended_details, final_positions"
   ]
  },
  {
   "cell_type": "code",
   "execution_count": 173,
   "metadata": {},
   "outputs": [],
   "source": [
    "positions=dict(start_positions)\n",
    "ext_details,final_positions=identify_start_positions(details,positions)"
   ]
  },
  {
   "cell_type": "code",
   "execution_count": 174,
   "metadata": {},
   "outputs": [
    {
     "name": "stdout",
     "output_type": "stream",
     "text": [
      "(1) white_pawn_e moved from e2 to e4\n",
      "(1) black_pawn_e moved from e7 to e6\n",
      "(2) white_pawn_d moved from d2 to d4\n",
      "(2) black_pawn_d moved from d7 to d5\n",
      "(3) white_pawn_e moved from e4 to e5\n",
      "(3) black_knight_b moved from b8 to c6\n",
      "(4) white_pawn_c moved from c2 to c3\n",
      "(4) black_pawn_g moved from g7 to g5\n",
      "(5) white_bishop_b moved from c1 to e3\n",
      "(5) black_pawn_h moved from h7 to h6\n",
      "(6) white_bishop_w moved from f1 to d3\n",
      "(6) black_knight_b moved from c6 to a5\n",
      "(7) white_knight_w moved from b1 to d2\n",
      "(7) black_knight_b moved from a5 to c4\n",
      "(8) white_bishop_w moved from d3 to c4\n",
      "(8) black_pawn_d moved from d5 to c4\n",
      "(9) white_knight_w moved from d2 to c4\n",
      "(9) black_knight_w moved from g8 to e7\n",
      "(10) white_queen moved from d1 to d3\n",
      "(10) black_queen moved from d8 to d5\n",
      "(11) white_knight_w moved from c4 to d2\n",
      "(11) black_knight_w moved from e7 to c6\n",
      "(12) white_pawn_f moved from f2 to f3\n",
      "(12) black_queen moved from d5 to d4\n",
      "(13) white_pawn_c moved from c3 to d4\n",
      "(13) black_knight_w moved from c6 to d4\n",
      "(14) white_bishop_b moved from e3 to d4\n",
      "(14) black_bishop_b moved from f1 to b4\n",
      "(15) white_knight_b moved from g1 to e2\n",
      "(15) black_pawn_f moved from f7 to f6\n",
      "(16) white_queen moved from d3 to b5\n",
      "(16) black_bishop_w moved from c8 to d7\n",
      "(17) white_queen moved from b5 to b4\n",
      "(17) black_pawn_a moved from a7 to a5\n",
      "(18) white_queen moved from b4 to b7\n",
      "(18) black_rook_w moved from a8 to d8\n",
      "(19) white_pawn_e moved from e5 to f6\n",
      "(19) black_king moved from e8 to f7\n",
      "(20) white_rook_b moved from a1 to c1\n",
      "(20) black_bishop_w moved from d7 to a4\n",
      "(21) white_queen moved from b7 to c7\n",
      "(21) black_king moved from f7 to g6\n",
      "(22) white_queen moved from c7 to g7\n"
     ]
    }
   ],
   "source": [
    "# print readable moves\n",
    "for d in ext_details:\n",
    "    start_pos=d[\"start_position\"][0]+str(d[\"start_position\"][1])\n",
    "    end_pos=d[\"end_position\"][0]+str(d[\"end_position\"][1])\n",
    "    print(\"({}) {} moved from {} to {}\".format(d[\"move_number\"],d[\"piece_name\"],start_pos,end_pos))"
   ]
  }
 ],
 "metadata": {
  "kernelspec": {
   "display_name": "Python 3",
   "language": "python",
   "name": "python3"
  },
  "language_info": {
   "codemirror_mode": {
    "name": "ipython",
    "version": 3
   },
   "file_extension": ".py",
   "mimetype": "text/x-python",
   "name": "python",
   "nbconvert_exporter": "python",
   "pygments_lexer": "ipython3",
   "version": "3.7.9"
  }
 },
 "nbformat": 4,
 "nbformat_minor": 5
}
