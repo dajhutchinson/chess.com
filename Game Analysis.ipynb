{
 "cells": [
  {
   "cell_type": "markdown",
   "metadata": {},
   "source": [
    "# Game Analysis\n",
    "Here I calculate some statistics about all the games I have played on chess.com (up to 13/06/2021).\n",
    "\n",
    "## TOC\n",
    " - [Read Data](#Read-Data)\n",
    " - [Overview of Data](#Overview-of-Data)\n",
    " - [Pre-Processing](#Pre-Processing)\n",
    " - [Explore Data](#Explore-Data)\n",
    "  - [Win Rates](#Win-Rates)\n",
    "  - [Rolling Win Rate](#Rolling-Win-Rate)"
   ]
  },
  {
   "cell_type": "code",
   "execution_count": 1,
   "metadata": {},
   "outputs": [],
   "source": [
    "import json\n",
    "import numpy as np\n",
    "import pandas as pd\n",
    "import Fetcher as F\n",
    "import Reader as R"
   ]
  },
  {
   "cell_type": "markdown",
   "metadata": {},
   "source": [
    "## Read Data\n",
    "`games.csv` was obtained using `Fetcher.fetch_every_game`."
   ]
  },
  {
   "cell_type": "code",
   "execution_count": 2,
   "metadata": {},
   "outputs": [],
   "source": [
    "df=F.__read_csv(\"data/games.csv\")\n",
    "df=df.rename(columns={\"time_control\":\"time_limit\"})"
   ]
  },
  {
   "cell_type": "markdown",
   "metadata": {},
   "source": [
    "## Overview of Data"
   ]
  },
  {
   "cell_type": "code",
   "execution_count": 3,
   "metadata": {},
   "outputs": [
    {
     "data": {
      "text/plain": [
       "(896, 10)"
      ]
     },
     "execution_count": 3,
     "metadata": {},
     "output_type": "execute_result"
    }
   ],
   "source": [
    "df.shape"
   ]
  },
  {
   "cell_type": "markdown",
   "metadata": {},
   "source": [
    "The dataset contains 10 fields for 896 games. However, this data has not been fully processed and many of the fields contain more than once piece of data."
   ]
  },
  {
   "cell_type": "code",
   "execution_count": 4,
   "metadata": {},
   "outputs": [
    {
     "data": {
      "text/plain": [
       "url                  https://www.chess.com/game/live/6009142163\n",
       "pgn           [Event \"Live Chess\"]\\n[Site \"Chess.com\"]\\n[Dat...\n",
       "time_limit                                                  600\n",
       "end_time                                             1608417059\n",
       "rated                                                      True\n",
       "fen           rnbqkb1r/1p2pNp1/p1p2n2/8/2BPP2p/8/PP1N1PPP/R1...\n",
       "time_class                                                rapid\n",
       "rules                                                     chess\n",
       "white         {'rating': 1362, 'result': 'win', '@id': 'http...\n",
       "black         {'rating': 1038, 'result': 'abandoned', '@id':...\n",
       "Name: 0, dtype: object"
      ]
     },
     "execution_count": 4,
     "metadata": {},
     "output_type": "execute_result"
    }
   ],
   "source": [
    "# View of data\n",
    "df.loc[0,:]"
   ]
  },
  {
   "cell_type": "markdown",
   "metadata": {},
   "source": [
    "## Pre-Processing\n",
    "Mainly extracting data from fields which hold multiple pieces of data (`pgn`,`fen`,`white`,`black`)"
   ]
  },
  {
   "cell_type": "code",
   "execution_count": 5,
   "metadata": {},
   "outputs": [],
   "source": [
    "def process_colour_data(strs:pd.Series,colour:str) -> df:\n",
    "    dicts=df.loc[:,colour].apply(lambda x:json.loads(x.replace(\"'\",\"\\\"\")))\n",
    "    \n",
    "    new_df=pd.DataFrame()\n",
    "    new_df[colour+\"_rating\"]=dicts.apply(lambda x:x[\"rating\"])\n",
    "    new_df[colour+\"_username\"]=dicts.apply(lambda x:x[\"username\"])\n",
    "    new_df[colour+\"_result\"]=dicts.apply(lambda x:x[\"result\"])\n",
    "    return new_df"
   ]
  },
  {
   "cell_type": "code",
   "execution_count": 6,
   "metadata": {},
   "outputs": [],
   "source": [
    "# extract info about players\n",
    "df=df.merge(process_colour_data(df.loc[:,\"white\"],\"white\"), left_index=True, right_index=True)\n",
    "df=df.merge(process_colour_data(df.loc[:,\"black\"],\"black\"), left_index=True, right_index=True)"
   ]
  },
  {
   "cell_type": "code",
   "execution_count": 7,
   "metadata": {},
   "outputs": [],
   "source": [
    "# my colour\n",
    "df[\"my_colour\"]=df[\"white_username\"].apply(lambda x: \"white\" if (x==\"DomHutchinson\") else \"black\")\n",
    "df[\"opponent_colour\"]=df[\"white_username\"].apply(lambda x: \"white\" if (x!=\"DomHutchinson\") else \"black\")"
   ]
  },
  {
   "cell_type": "code",
   "execution_count": 8,
   "metadata": {},
   "outputs": [],
   "source": [
    "# ratings\n",
    "df[\"my_rating\"]=df.apply(lambda x:x[\"white_rating\"] if (x[\"white_username\"]==\"DomHutchinson\") else x[\"black_rating\"],axis=1)\n",
    "df[\"opponent_rating\"]=df.apply(lambda x:x[\"white_rating\"] if (x[\"white_username\"]!=\"DomHutchinson\") else x[\"black_rating\"],axis=1)"
   ]
  },
  {
   "cell_type": "code",
   "execution_count": 9,
   "metadata": {},
   "outputs": [
    {
     "data": {
      "text/html": [
       "<div>\n",
       "<style scoped>\n",
       "    .dataframe tbody tr th:only-of-type {\n",
       "        vertical-align: middle;\n",
       "    }\n",
       "\n",
       "    .dataframe tbody tr th {\n",
       "        vertical-align: top;\n",
       "    }\n",
       "\n",
       "    .dataframe thead th {\n",
       "        text-align: right;\n",
       "    }\n",
       "</style>\n",
       "<table border=\"1\" class=\"dataframe\">\n",
       "  <thead>\n",
       "    <tr style=\"text-align: right;\">\n",
       "      <th></th>\n",
       "      <th>url</th>\n",
       "      <th>pgn</th>\n",
       "      <th>time_limit</th>\n",
       "      <th>end_time</th>\n",
       "      <th>rated</th>\n",
       "      <th>fen</th>\n",
       "      <th>time_class</th>\n",
       "      <th>rules</th>\n",
       "      <th>white</th>\n",
       "      <th>black</th>\n",
       "      <th>white_rating</th>\n",
       "      <th>white_username</th>\n",
       "      <th>white_result</th>\n",
       "      <th>black_rating</th>\n",
       "      <th>black_username</th>\n",
       "      <th>black_result</th>\n",
       "      <th>my_colour</th>\n",
       "      <th>opponent_colour</th>\n",
       "      <th>my_rating</th>\n",
       "      <th>opponent_rating</th>\n",
       "    </tr>\n",
       "  </thead>\n",
       "  <tbody>\n",
       "    <tr>\n",
       "      <th>0</th>\n",
       "      <td>https://www.chess.com/game/live/6009142163</td>\n",
       "      <td>[Event \"Live Chess\"]\\n[Site \"Chess.com\"]\\n[Dat...</td>\n",
       "      <td>600</td>\n",
       "      <td>1608417059</td>\n",
       "      <td>True</td>\n",
       "      <td>rnbqkb1r/1p2pNp1/p1p2n2/8/2BPP2p/8/PP1N1PPP/R1...</td>\n",
       "      <td>rapid</td>\n",
       "      <td>chess</td>\n",
       "      <td>{'rating': 1362, 'result': 'win', '@id': 'http...</td>\n",
       "      <td>{'rating': 1038, 'result': 'abandoned', '@id':...</td>\n",
       "      <td>1362</td>\n",
       "      <td>DomHutchinson</td>\n",
       "      <td>win</td>\n",
       "      <td>1038</td>\n",
       "      <td>GenevievePlenty</td>\n",
       "      <td>abandoned</td>\n",
       "      <td>white</td>\n",
       "      <td>black</td>\n",
       "      <td>1362</td>\n",
       "      <td>1038</td>\n",
       "    </tr>\n",
       "    <tr>\n",
       "      <th>1</th>\n",
       "      <td>https://www.chess.com/game/live/6009888217</td>\n",
       "      <td>[Event \"Live Chess\"]\\n[Site \"Chess.com\"]\\n[Dat...</td>\n",
       "      <td>300</td>\n",
       "      <td>1608424220</td>\n",
       "      <td>True</td>\n",
       "      <td>3r3r/6Q1/4pPkp/p5p1/b2B4/5P2/PP1NN1PP/2R1K2R b...</td>\n",
       "      <td>blitz</td>\n",
       "      <td>chess</td>\n",
       "      <td>{'rating': 1184, 'result': 'win', '@id': 'http...</td>\n",
       "      <td>{'rating': 1013, 'result': 'resigned', '@id': ...</td>\n",
       "      <td>1184</td>\n",
       "      <td>magnuscarlson78348</td>\n",
       "      <td>win</td>\n",
       "      <td>1013</td>\n",
       "      <td>DomHutchinson</td>\n",
       "      <td>resigned</td>\n",
       "      <td>black</td>\n",
       "      <td>white</td>\n",
       "      <td>1013</td>\n",
       "      <td>1184</td>\n",
       "    </tr>\n",
       "    <tr>\n",
       "      <th>2</th>\n",
       "      <td>https://www.chess.com/game/live/6009910283</td>\n",
       "      <td>[Event \"Live Chess\"]\\n[Site \"Chess.com\"]\\n[Dat...</td>\n",
       "      <td>600</td>\n",
       "      <td>1608424461</td>\n",
       "      <td>True</td>\n",
       "      <td>rnb1k2r/1ppq1ppp/p3p1n1/8/P2N1P2/2b5/3N2PP/R1B...</td>\n",
       "      <td>rapid</td>\n",
       "      <td>chess</td>\n",
       "      <td>{'rating': 1227, 'result': 'resigned', '@id': ...</td>\n",
       "      <td>{'rating': 1390, 'result': 'win', '@id': 'http...</td>\n",
       "      <td>1227</td>\n",
       "      <td>DomHutchinson</td>\n",
       "      <td>resigned</td>\n",
       "      <td>1390</td>\n",
       "      <td>sri3421</td>\n",
       "      <td>win</td>\n",
       "      <td>white</td>\n",
       "      <td>black</td>\n",
       "      <td>1227</td>\n",
       "      <td>1390</td>\n",
       "    </tr>\n",
       "    <tr>\n",
       "      <th>3</th>\n",
       "      <td>https://www.chess.com/game/live/6010069847</td>\n",
       "      <td>[Event \"Live Chess\"]\\n[Site \"Chess.com\"]\\n[Dat...</td>\n",
       "      <td>600</td>\n",
       "      <td>1608427285</td>\n",
       "      <td>True</td>\n",
       "      <td>8/5pR1/3k4/8/P4P2/bP4P1/6nP/K2N4 b - -</td>\n",
       "      <td>rapid</td>\n",
       "      <td>chess</td>\n",
       "      <td>{'rating': 1383, 'result': 'win', '@id': 'http...</td>\n",
       "      <td>{'rating': 1142, 'result': 'resigned', '@id': ...</td>\n",
       "      <td>1383</td>\n",
       "      <td>ChessGodBossom</td>\n",
       "      <td>win</td>\n",
       "      <td>1142</td>\n",
       "      <td>DomHutchinson</td>\n",
       "      <td>resigned</td>\n",
       "      <td>black</td>\n",
       "      <td>white</td>\n",
       "      <td>1142</td>\n",
       "      <td>1383</td>\n",
       "    </tr>\n",
       "    <tr>\n",
       "      <th>4</th>\n",
       "      <td>https://www.chess.com/game/live/6010223804</td>\n",
       "      <td>[Event \"Live Chess\"]\\n[Site \"Chess.com\"]\\n[Dat...</td>\n",
       "      <td>600</td>\n",
       "      <td>1608428926</td>\n",
       "      <td>True</td>\n",
       "      <td>8/8/P1n2rpk/4p2p/3bP3/1K6/6PP/3R4 b - -</td>\n",
       "      <td>rapid</td>\n",
       "      <td>chess</td>\n",
       "      <td>{'rating': 1032, 'result': 'resigned', '@id': ...</td>\n",
       "      <td>{'rating': 1081, 'result': 'win', '@id': 'http...</td>\n",
       "      <td>1032</td>\n",
       "      <td>DomHutchinson</td>\n",
       "      <td>resigned</td>\n",
       "      <td>1081</td>\n",
       "      <td>ElliottSand</td>\n",
       "      <td>win</td>\n",
       "      <td>white</td>\n",
       "      <td>black</td>\n",
       "      <td>1032</td>\n",
       "      <td>1081</td>\n",
       "    </tr>\n",
       "  </tbody>\n",
       "</table>\n",
       "</div>"
      ],
      "text/plain": [
       "                                          url  \\\n",
       "0  https://www.chess.com/game/live/6009142163   \n",
       "1  https://www.chess.com/game/live/6009888217   \n",
       "2  https://www.chess.com/game/live/6009910283   \n",
       "3  https://www.chess.com/game/live/6010069847   \n",
       "4  https://www.chess.com/game/live/6010223804   \n",
       "\n",
       "                                                 pgn  time_limit    end_time  \\\n",
       "0  [Event \"Live Chess\"]\\n[Site \"Chess.com\"]\\n[Dat...         600  1608417059   \n",
       "1  [Event \"Live Chess\"]\\n[Site \"Chess.com\"]\\n[Dat...         300  1608424220   \n",
       "2  [Event \"Live Chess\"]\\n[Site \"Chess.com\"]\\n[Dat...         600  1608424461   \n",
       "3  [Event \"Live Chess\"]\\n[Site \"Chess.com\"]\\n[Dat...         600  1608427285   \n",
       "4  [Event \"Live Chess\"]\\n[Site \"Chess.com\"]\\n[Dat...         600  1608428926   \n",
       "\n",
       "   rated                                                fen time_class  rules  \\\n",
       "0   True  rnbqkb1r/1p2pNp1/p1p2n2/8/2BPP2p/8/PP1N1PPP/R1...      rapid  chess   \n",
       "1   True  3r3r/6Q1/4pPkp/p5p1/b2B4/5P2/PP1NN1PP/2R1K2R b...      blitz  chess   \n",
       "2   True  rnb1k2r/1ppq1ppp/p3p1n1/8/P2N1P2/2b5/3N2PP/R1B...      rapid  chess   \n",
       "3   True             8/5pR1/3k4/8/P4P2/bP4P1/6nP/K2N4 b - -      rapid  chess   \n",
       "4   True            8/8/P1n2rpk/4p2p/3bP3/1K6/6PP/3R4 b - -      rapid  chess   \n",
       "\n",
       "                                               white  \\\n",
       "0  {'rating': 1362, 'result': 'win', '@id': 'http...   \n",
       "1  {'rating': 1184, 'result': 'win', '@id': 'http...   \n",
       "2  {'rating': 1227, 'result': 'resigned', '@id': ...   \n",
       "3  {'rating': 1383, 'result': 'win', '@id': 'http...   \n",
       "4  {'rating': 1032, 'result': 'resigned', '@id': ...   \n",
       "\n",
       "                                               black  white_rating  \\\n",
       "0  {'rating': 1038, 'result': 'abandoned', '@id':...          1362   \n",
       "1  {'rating': 1013, 'result': 'resigned', '@id': ...          1184   \n",
       "2  {'rating': 1390, 'result': 'win', '@id': 'http...          1227   \n",
       "3  {'rating': 1142, 'result': 'resigned', '@id': ...          1383   \n",
       "4  {'rating': 1081, 'result': 'win', '@id': 'http...          1032   \n",
       "\n",
       "       white_username white_result  black_rating   black_username  \\\n",
       "0       DomHutchinson          win          1038  GenevievePlenty   \n",
       "1  magnuscarlson78348          win          1013    DomHutchinson   \n",
       "2       DomHutchinson     resigned          1390          sri3421   \n",
       "3      ChessGodBossom          win          1142    DomHutchinson   \n",
       "4       DomHutchinson     resigned          1081      ElliottSand   \n",
       "\n",
       "  black_result my_colour opponent_colour  my_rating  opponent_rating  \n",
       "0    abandoned     white           black       1362             1038  \n",
       "1     resigned     black           white       1013             1184  \n",
       "2          win     white           black       1227             1390  \n",
       "3     resigned     black           white       1142             1383  \n",
       "4          win     white           black       1032             1081  "
      ]
     },
     "execution_count": 9,
     "metadata": {},
     "output_type": "execute_result"
    }
   ],
   "source": [
    "df.head(5)"
   ]
  },
  {
   "cell_type": "code",
   "execution_count": 10,
   "metadata": {},
   "outputs": [],
   "source": [
    "# identify winner's colour and reason for outcome\n",
    "df[\"winner_colour\"]=df.apply(lambda x:\"white\" if (x[\"white_result\"]==\"win\") else (\"black\" if x[\"black_result\"]==\"win\" else \"draw\"),axis=1)\n",
    "df[\"winner_reason\"]=df.apply(lambda x:x[\"black_result\"] if (x[\"white_result\"]==\"win\") else (x[\"white_result\"] if x[\"black_result\"]==\"win\" else x[\"white_result\"]),axis=1)"
   ]
  },
  {
   "cell_type": "code",
   "execution_count": 11,
   "metadata": {},
   "outputs": [
    {
     "data": {
      "text/html": [
       "<div>\n",
       "<style scoped>\n",
       "    .dataframe tbody tr th:only-of-type {\n",
       "        vertical-align: middle;\n",
       "    }\n",
       "\n",
       "    .dataframe tbody tr th {\n",
       "        vertical-align: top;\n",
       "    }\n",
       "\n",
       "    .dataframe thead th {\n",
       "        text-align: right;\n",
       "    }\n",
       "</style>\n",
       "<table border=\"1\" class=\"dataframe\">\n",
       "  <thead>\n",
       "    <tr style=\"text-align: right;\">\n",
       "      <th></th>\n",
       "      <th>url</th>\n",
       "      <th>pgn</th>\n",
       "      <th>time_limit</th>\n",
       "      <th>end_time</th>\n",
       "      <th>rated</th>\n",
       "      <th>fen</th>\n",
       "      <th>time_class</th>\n",
       "      <th>rules</th>\n",
       "      <th>white</th>\n",
       "      <th>black</th>\n",
       "      <th>...</th>\n",
       "      <th>white_result</th>\n",
       "      <th>black_rating</th>\n",
       "      <th>black_username</th>\n",
       "      <th>black_result</th>\n",
       "      <th>my_colour</th>\n",
       "      <th>opponent_colour</th>\n",
       "      <th>my_rating</th>\n",
       "      <th>opponent_rating</th>\n",
       "      <th>winner_colour</th>\n",
       "      <th>winner_reason</th>\n",
       "    </tr>\n",
       "  </thead>\n",
       "  <tbody>\n",
       "    <tr>\n",
       "      <th>0</th>\n",
       "      <td>https://www.chess.com/game/live/6009142163</td>\n",
       "      <td>[Event \"Live Chess\"]\\n[Site \"Chess.com\"]\\n[Dat...</td>\n",
       "      <td>600</td>\n",
       "      <td>1608417059</td>\n",
       "      <td>True</td>\n",
       "      <td>rnbqkb1r/1p2pNp1/p1p2n2/8/2BPP2p/8/PP1N1PPP/R1...</td>\n",
       "      <td>rapid</td>\n",
       "      <td>chess</td>\n",
       "      <td>{'rating': 1362, 'result': 'win', '@id': 'http...</td>\n",
       "      <td>{'rating': 1038, 'result': 'abandoned', '@id':...</td>\n",
       "      <td>...</td>\n",
       "      <td>win</td>\n",
       "      <td>1038</td>\n",
       "      <td>GenevievePlenty</td>\n",
       "      <td>abandoned</td>\n",
       "      <td>white</td>\n",
       "      <td>black</td>\n",
       "      <td>1362</td>\n",
       "      <td>1038</td>\n",
       "      <td>white</td>\n",
       "      <td>abandoned</td>\n",
       "    </tr>\n",
       "    <tr>\n",
       "      <th>1</th>\n",
       "      <td>https://www.chess.com/game/live/6009888217</td>\n",
       "      <td>[Event \"Live Chess\"]\\n[Site \"Chess.com\"]\\n[Dat...</td>\n",
       "      <td>300</td>\n",
       "      <td>1608424220</td>\n",
       "      <td>True</td>\n",
       "      <td>3r3r/6Q1/4pPkp/p5p1/b2B4/5P2/PP1NN1PP/2R1K2R b...</td>\n",
       "      <td>blitz</td>\n",
       "      <td>chess</td>\n",
       "      <td>{'rating': 1184, 'result': 'win', '@id': 'http...</td>\n",
       "      <td>{'rating': 1013, 'result': 'resigned', '@id': ...</td>\n",
       "      <td>...</td>\n",
       "      <td>win</td>\n",
       "      <td>1013</td>\n",
       "      <td>DomHutchinson</td>\n",
       "      <td>resigned</td>\n",
       "      <td>black</td>\n",
       "      <td>white</td>\n",
       "      <td>1013</td>\n",
       "      <td>1184</td>\n",
       "      <td>white</td>\n",
       "      <td>resigned</td>\n",
       "    </tr>\n",
       "    <tr>\n",
       "      <th>2</th>\n",
       "      <td>https://www.chess.com/game/live/6009910283</td>\n",
       "      <td>[Event \"Live Chess\"]\\n[Site \"Chess.com\"]\\n[Dat...</td>\n",
       "      <td>600</td>\n",
       "      <td>1608424461</td>\n",
       "      <td>True</td>\n",
       "      <td>rnb1k2r/1ppq1ppp/p3p1n1/8/P2N1P2/2b5/3N2PP/R1B...</td>\n",
       "      <td>rapid</td>\n",
       "      <td>chess</td>\n",
       "      <td>{'rating': 1227, 'result': 'resigned', '@id': ...</td>\n",
       "      <td>{'rating': 1390, 'result': 'win', '@id': 'http...</td>\n",
       "      <td>...</td>\n",
       "      <td>resigned</td>\n",
       "      <td>1390</td>\n",
       "      <td>sri3421</td>\n",
       "      <td>win</td>\n",
       "      <td>white</td>\n",
       "      <td>black</td>\n",
       "      <td>1227</td>\n",
       "      <td>1390</td>\n",
       "      <td>black</td>\n",
       "      <td>resigned</td>\n",
       "    </tr>\n",
       "    <tr>\n",
       "      <th>3</th>\n",
       "      <td>https://www.chess.com/game/live/6010069847</td>\n",
       "      <td>[Event \"Live Chess\"]\\n[Site \"Chess.com\"]\\n[Dat...</td>\n",
       "      <td>600</td>\n",
       "      <td>1608427285</td>\n",
       "      <td>True</td>\n",
       "      <td>8/5pR1/3k4/8/P4P2/bP4P1/6nP/K2N4 b - -</td>\n",
       "      <td>rapid</td>\n",
       "      <td>chess</td>\n",
       "      <td>{'rating': 1383, 'result': 'win', '@id': 'http...</td>\n",
       "      <td>{'rating': 1142, 'result': 'resigned', '@id': ...</td>\n",
       "      <td>...</td>\n",
       "      <td>win</td>\n",
       "      <td>1142</td>\n",
       "      <td>DomHutchinson</td>\n",
       "      <td>resigned</td>\n",
       "      <td>black</td>\n",
       "      <td>white</td>\n",
       "      <td>1142</td>\n",
       "      <td>1383</td>\n",
       "      <td>white</td>\n",
       "      <td>resigned</td>\n",
       "    </tr>\n",
       "    <tr>\n",
       "      <th>4</th>\n",
       "      <td>https://www.chess.com/game/live/6010223804</td>\n",
       "      <td>[Event \"Live Chess\"]\\n[Site \"Chess.com\"]\\n[Dat...</td>\n",
       "      <td>600</td>\n",
       "      <td>1608428926</td>\n",
       "      <td>True</td>\n",
       "      <td>8/8/P1n2rpk/4p2p/3bP3/1K6/6PP/3R4 b - -</td>\n",
       "      <td>rapid</td>\n",
       "      <td>chess</td>\n",
       "      <td>{'rating': 1032, 'result': 'resigned', '@id': ...</td>\n",
       "      <td>{'rating': 1081, 'result': 'win', '@id': 'http...</td>\n",
       "      <td>...</td>\n",
       "      <td>resigned</td>\n",
       "      <td>1081</td>\n",
       "      <td>ElliottSand</td>\n",
       "      <td>win</td>\n",
       "      <td>white</td>\n",
       "      <td>black</td>\n",
       "      <td>1032</td>\n",
       "      <td>1081</td>\n",
       "      <td>black</td>\n",
       "      <td>resigned</td>\n",
       "    </tr>\n",
       "  </tbody>\n",
       "</table>\n",
       "<p>5 rows × 22 columns</p>\n",
       "</div>"
      ],
      "text/plain": [
       "                                          url  \\\n",
       "0  https://www.chess.com/game/live/6009142163   \n",
       "1  https://www.chess.com/game/live/6009888217   \n",
       "2  https://www.chess.com/game/live/6009910283   \n",
       "3  https://www.chess.com/game/live/6010069847   \n",
       "4  https://www.chess.com/game/live/6010223804   \n",
       "\n",
       "                                                 pgn  time_limit    end_time  \\\n",
       "0  [Event \"Live Chess\"]\\n[Site \"Chess.com\"]\\n[Dat...         600  1608417059   \n",
       "1  [Event \"Live Chess\"]\\n[Site \"Chess.com\"]\\n[Dat...         300  1608424220   \n",
       "2  [Event \"Live Chess\"]\\n[Site \"Chess.com\"]\\n[Dat...         600  1608424461   \n",
       "3  [Event \"Live Chess\"]\\n[Site \"Chess.com\"]\\n[Dat...         600  1608427285   \n",
       "4  [Event \"Live Chess\"]\\n[Site \"Chess.com\"]\\n[Dat...         600  1608428926   \n",
       "\n",
       "   rated                                                fen time_class  rules  \\\n",
       "0   True  rnbqkb1r/1p2pNp1/p1p2n2/8/2BPP2p/8/PP1N1PPP/R1...      rapid  chess   \n",
       "1   True  3r3r/6Q1/4pPkp/p5p1/b2B4/5P2/PP1NN1PP/2R1K2R b...      blitz  chess   \n",
       "2   True  rnb1k2r/1ppq1ppp/p3p1n1/8/P2N1P2/2b5/3N2PP/R1B...      rapid  chess   \n",
       "3   True             8/5pR1/3k4/8/P4P2/bP4P1/6nP/K2N4 b - -      rapid  chess   \n",
       "4   True            8/8/P1n2rpk/4p2p/3bP3/1K6/6PP/3R4 b - -      rapid  chess   \n",
       "\n",
       "                                               white  \\\n",
       "0  {'rating': 1362, 'result': 'win', '@id': 'http...   \n",
       "1  {'rating': 1184, 'result': 'win', '@id': 'http...   \n",
       "2  {'rating': 1227, 'result': 'resigned', '@id': ...   \n",
       "3  {'rating': 1383, 'result': 'win', '@id': 'http...   \n",
       "4  {'rating': 1032, 'result': 'resigned', '@id': ...   \n",
       "\n",
       "                                               black  ...  white_result  \\\n",
       "0  {'rating': 1038, 'result': 'abandoned', '@id':...  ...           win   \n",
       "1  {'rating': 1013, 'result': 'resigned', '@id': ...  ...           win   \n",
       "2  {'rating': 1390, 'result': 'win', '@id': 'http...  ...      resigned   \n",
       "3  {'rating': 1142, 'result': 'resigned', '@id': ...  ...           win   \n",
       "4  {'rating': 1081, 'result': 'win', '@id': 'http...  ...      resigned   \n",
       "\n",
       "  black_rating   black_username  black_result my_colour opponent_colour  \\\n",
       "0         1038  GenevievePlenty     abandoned     white           black   \n",
       "1         1013    DomHutchinson      resigned     black           white   \n",
       "2         1390          sri3421           win     white           black   \n",
       "3         1142    DomHutchinson      resigned     black           white   \n",
       "4         1081      ElliottSand           win     white           black   \n",
       "\n",
       "  my_rating opponent_rating  winner_colour  winner_reason  \n",
       "0      1362            1038          white      abandoned  \n",
       "1      1013            1184          white       resigned  \n",
       "2      1227            1390          black       resigned  \n",
       "3      1142            1383          white       resigned  \n",
       "4      1032            1081          black       resigned  \n",
       "\n",
       "[5 rows x 22 columns]"
      ]
     },
     "execution_count": 11,
     "metadata": {},
     "output_type": "execute_result"
    }
   ],
   "source": [
    "df.head()"
   ]
  },
  {
   "cell_type": "code",
   "execution_count": 12,
   "metadata": {},
   "outputs": [],
   "source": [
    "def extract_from_pgn(pgn_str) -> pd.Series:\n",
    "    pgn_data,pgn_movetext=R.parse_pgn(pgn_str)\n",
    "    moves=R.parse_san_movetext(pgn_movetext)\n",
    "    \n",
    "    s=pd.Series()\n",
    "    s[\"date\"]=pgn_data[\"UTCDate\"]\n",
    "    s[\"opening_code\"]=pgn_data[\"ECO\"]\n",
    "    s[\"start_time\"]=pgn_data[\"StartTime\"]\n",
    "    s[\"finish_time\"]=pgn_data[\"EndTime\"]\n",
    "    s[\"num_moves\"]=len(moves)\n",
    "    s[\"moves_data\"]=moves\n",
    "    \n",
    "    return s"
   ]
  },
  {
   "cell_type": "code",
   "execution_count": 13,
   "metadata": {},
   "outputs": [
    {
     "name": "stderr",
     "output_type": "stream",
     "text": [
      "c:\\users\\domah\\appdata\\local\\programs\\python\\python37\\lib\\site-packages\\ipykernel_launcher.py:5: DeprecationWarning: The default dtype for empty Series will be 'object' instead of 'float64' in a future version. Specify a dtype explicitly to silence this warning.\n",
      "  \"\"\"\n"
     ]
    }
   ],
   "source": [
    "pgn_data=df.apply(lambda x:extract_from_pgn(x[\"pgn\"]),axis=1)"
   ]
  },
  {
   "cell_type": "code",
   "execution_count": 14,
   "metadata": {},
   "outputs": [],
   "source": [
    "df=df.merge(pgn_data,left_index=True, right_index=True)"
   ]
  },
  {
   "cell_type": "code",
   "execution_count": 15,
   "metadata": {},
   "outputs": [
    {
     "data": {
      "text/html": [
       "<div>\n",
       "<style scoped>\n",
       "    .dataframe tbody tr th:only-of-type {\n",
       "        vertical-align: middle;\n",
       "    }\n",
       "\n",
       "    .dataframe tbody tr th {\n",
       "        vertical-align: top;\n",
       "    }\n",
       "\n",
       "    .dataframe thead th {\n",
       "        text-align: right;\n",
       "    }\n",
       "</style>\n",
       "<table border=\"1\" class=\"dataframe\">\n",
       "  <thead>\n",
       "    <tr style=\"text-align: right;\">\n",
       "      <th></th>\n",
       "      <th>url</th>\n",
       "      <th>pgn</th>\n",
       "      <th>time_limit</th>\n",
       "      <th>end_time</th>\n",
       "      <th>rated</th>\n",
       "      <th>fen</th>\n",
       "      <th>time_class</th>\n",
       "      <th>rules</th>\n",
       "      <th>white</th>\n",
       "      <th>black</th>\n",
       "      <th>...</th>\n",
       "      <th>my_rating</th>\n",
       "      <th>opponent_rating</th>\n",
       "      <th>winner_colour</th>\n",
       "      <th>winner_reason</th>\n",
       "      <th>date</th>\n",
       "      <th>opening_code</th>\n",
       "      <th>start_time</th>\n",
       "      <th>finish_time</th>\n",
       "      <th>num_moves</th>\n",
       "      <th>moves_data</th>\n",
       "    </tr>\n",
       "  </thead>\n",
       "  <tbody>\n",
       "    <tr>\n",
       "      <th>0</th>\n",
       "      <td>https://www.chess.com/game/live/6009142163</td>\n",
       "      <td>[Event \"Live Chess\"]\\n[Site \"Chess.com\"]\\n[Dat...</td>\n",
       "      <td>600</td>\n",
       "      <td>1608417059</td>\n",
       "      <td>True</td>\n",
       "      <td>rnbqkb1r/1p2pNp1/p1p2n2/8/2BPP2p/8/PP1N1PPP/R1...</td>\n",
       "      <td>rapid</td>\n",
       "      <td>chess</td>\n",
       "      <td>{'rating': 1362, 'result': 'win', '@id': 'http...</td>\n",
       "      <td>{'rating': 1038, 'result': 'abandoned', '@id':...</td>\n",
       "      <td>...</td>\n",
       "      <td>1362</td>\n",
       "      <td>1038</td>\n",
       "      <td>white</td>\n",
       "      <td>abandoned</td>\n",
       "      <td>2020.12.19</td>\n",
       "      <td>B12</td>\n",
       "      <td>22:20:55</td>\n",
       "      <td>22:30:59</td>\n",
       "      <td>15</td>\n",
       "      <td>[(moves pawn to e4., {'special': False, 'piece...</td>\n",
       "    </tr>\n",
       "    <tr>\n",
       "      <th>1</th>\n",
       "      <td>https://www.chess.com/game/live/6009888217</td>\n",
       "      <td>[Event \"Live Chess\"]\\n[Site \"Chess.com\"]\\n[Dat...</td>\n",
       "      <td>300</td>\n",
       "      <td>1608424220</td>\n",
       "      <td>True</td>\n",
       "      <td>3r3r/6Q1/4pPkp/p5p1/b2B4/5P2/PP1NN1PP/2R1K2R b...</td>\n",
       "      <td>blitz</td>\n",
       "      <td>chess</td>\n",
       "      <td>{'rating': 1184, 'result': 'win', '@id': 'http...</td>\n",
       "      <td>{'rating': 1013, 'result': 'resigned', '@id': ...</td>\n",
       "      <td>...</td>\n",
       "      <td>1013</td>\n",
       "      <td>1184</td>\n",
       "      <td>white</td>\n",
       "      <td>resigned</td>\n",
       "      <td>2020.12.20</td>\n",
       "      <td>C02</td>\n",
       "      <td>00:26:33</td>\n",
       "      <td>00:30:20</td>\n",
       "      <td>43</td>\n",
       "      <td>[(moves pawn to e4., {'special': False, 'piece...</td>\n",
       "    </tr>\n",
       "    <tr>\n",
       "      <th>2</th>\n",
       "      <td>https://www.chess.com/game/live/6009910283</td>\n",
       "      <td>[Event \"Live Chess\"]\\n[Site \"Chess.com\"]\\n[Dat...</td>\n",
       "      <td>600</td>\n",
       "      <td>1608424461</td>\n",
       "      <td>True</td>\n",
       "      <td>rnb1k2r/1ppq1ppp/p3p1n1/8/P2N1P2/2b5/3N2PP/R1B...</td>\n",
       "      <td>rapid</td>\n",
       "      <td>chess</td>\n",
       "      <td>{'rating': 1227, 'result': 'resigned', '@id': ...</td>\n",
       "      <td>{'rating': 1390, 'result': 'win', '@id': 'http...</td>\n",
       "      <td>...</td>\n",
       "      <td>1227</td>\n",
       "      <td>1390</td>\n",
       "      <td>black</td>\n",
       "      <td>resigned</td>\n",
       "      <td>2020.12.20</td>\n",
       "      <td>B01</td>\n",
       "      <td>00:30:45</td>\n",
       "      <td>00:34:21</td>\n",
       "      <td>24</td>\n",
       "      <td>[(moves pawn to e4., {'special': False, 'piece...</td>\n",
       "    </tr>\n",
       "    <tr>\n",
       "      <th>3</th>\n",
       "      <td>https://www.chess.com/game/live/6010069847</td>\n",
       "      <td>[Event \"Live Chess\"]\\n[Site \"Chess.com\"]\\n[Dat...</td>\n",
       "      <td>600</td>\n",
       "      <td>1608427285</td>\n",
       "      <td>True</td>\n",
       "      <td>8/5pR1/3k4/8/P4P2/bP4P1/6nP/K2N4 b - -</td>\n",
       "      <td>rapid</td>\n",
       "      <td>chess</td>\n",
       "      <td>{'rating': 1383, 'result': 'win', '@id': 'http...</td>\n",
       "      <td>{'rating': 1142, 'result': 'resigned', '@id': ...</td>\n",
       "      <td>...</td>\n",
       "      <td>1142</td>\n",
       "      <td>1383</td>\n",
       "      <td>white</td>\n",
       "      <td>resigned</td>\n",
       "      <td>2020.12.20</td>\n",
       "      <td>C44</td>\n",
       "      <td>01:02:37</td>\n",
       "      <td>01:21:25</td>\n",
       "      <td>91</td>\n",
       "      <td>[(moves pawn to e4., {'special': False, 'piece...</td>\n",
       "    </tr>\n",
       "    <tr>\n",
       "      <th>4</th>\n",
       "      <td>https://www.chess.com/game/live/6010223804</td>\n",
       "      <td>[Event \"Live Chess\"]\\n[Site \"Chess.com\"]\\n[Dat...</td>\n",
       "      <td>600</td>\n",
       "      <td>1608428926</td>\n",
       "      <td>True</td>\n",
       "      <td>8/8/P1n2rpk/4p2p/3bP3/1K6/6PP/3R4 b - -</td>\n",
       "      <td>rapid</td>\n",
       "      <td>chess</td>\n",
       "      <td>{'rating': 1032, 'result': 'resigned', '@id': ...</td>\n",
       "      <td>{'rating': 1081, 'result': 'win', '@id': 'http...</td>\n",
       "      <td>...</td>\n",
       "      <td>1032</td>\n",
       "      <td>1081</td>\n",
       "      <td>black</td>\n",
       "      <td>resigned</td>\n",
       "      <td>2020.12.20</td>\n",
       "      <td>C20</td>\n",
       "      <td>01:34:59</td>\n",
       "      <td>01:48:46</td>\n",
       "      <td>69</td>\n",
       "      <td>[(moves pawn to e4., {'special': False, 'piece...</td>\n",
       "    </tr>\n",
       "  </tbody>\n",
       "</table>\n",
       "<p>5 rows × 28 columns</p>\n",
       "</div>"
      ],
      "text/plain": [
       "                                          url  \\\n",
       "0  https://www.chess.com/game/live/6009142163   \n",
       "1  https://www.chess.com/game/live/6009888217   \n",
       "2  https://www.chess.com/game/live/6009910283   \n",
       "3  https://www.chess.com/game/live/6010069847   \n",
       "4  https://www.chess.com/game/live/6010223804   \n",
       "\n",
       "                                                 pgn  time_limit    end_time  \\\n",
       "0  [Event \"Live Chess\"]\\n[Site \"Chess.com\"]\\n[Dat...         600  1608417059   \n",
       "1  [Event \"Live Chess\"]\\n[Site \"Chess.com\"]\\n[Dat...         300  1608424220   \n",
       "2  [Event \"Live Chess\"]\\n[Site \"Chess.com\"]\\n[Dat...         600  1608424461   \n",
       "3  [Event \"Live Chess\"]\\n[Site \"Chess.com\"]\\n[Dat...         600  1608427285   \n",
       "4  [Event \"Live Chess\"]\\n[Site \"Chess.com\"]\\n[Dat...         600  1608428926   \n",
       "\n",
       "   rated                                                fen time_class  rules  \\\n",
       "0   True  rnbqkb1r/1p2pNp1/p1p2n2/8/2BPP2p/8/PP1N1PPP/R1...      rapid  chess   \n",
       "1   True  3r3r/6Q1/4pPkp/p5p1/b2B4/5P2/PP1NN1PP/2R1K2R b...      blitz  chess   \n",
       "2   True  rnb1k2r/1ppq1ppp/p3p1n1/8/P2N1P2/2b5/3N2PP/R1B...      rapid  chess   \n",
       "3   True             8/5pR1/3k4/8/P4P2/bP4P1/6nP/K2N4 b - -      rapid  chess   \n",
       "4   True            8/8/P1n2rpk/4p2p/3bP3/1K6/6PP/3R4 b - -      rapid  chess   \n",
       "\n",
       "                                               white  \\\n",
       "0  {'rating': 1362, 'result': 'win', '@id': 'http...   \n",
       "1  {'rating': 1184, 'result': 'win', '@id': 'http...   \n",
       "2  {'rating': 1227, 'result': 'resigned', '@id': ...   \n",
       "3  {'rating': 1383, 'result': 'win', '@id': 'http...   \n",
       "4  {'rating': 1032, 'result': 'resigned', '@id': ...   \n",
       "\n",
       "                                               black  ...  my_rating  \\\n",
       "0  {'rating': 1038, 'result': 'abandoned', '@id':...  ...       1362   \n",
       "1  {'rating': 1013, 'result': 'resigned', '@id': ...  ...       1013   \n",
       "2  {'rating': 1390, 'result': 'win', '@id': 'http...  ...       1227   \n",
       "3  {'rating': 1142, 'result': 'resigned', '@id': ...  ...       1142   \n",
       "4  {'rating': 1081, 'result': 'win', '@id': 'http...  ...       1032   \n",
       "\n",
       "  opponent_rating winner_colour  winner_reason        date opening_code  \\\n",
       "0            1038         white      abandoned  2020.12.19          B12   \n",
       "1            1184         white       resigned  2020.12.20          C02   \n",
       "2            1390         black       resigned  2020.12.20          B01   \n",
       "3            1383         white       resigned  2020.12.20          C44   \n",
       "4            1081         black       resigned  2020.12.20          C20   \n",
       "\n",
       "  start_time finish_time  num_moves  \\\n",
       "0   22:20:55    22:30:59         15   \n",
       "1   00:26:33    00:30:20         43   \n",
       "2   00:30:45    00:34:21         24   \n",
       "3   01:02:37    01:21:25         91   \n",
       "4   01:34:59    01:48:46         69   \n",
       "\n",
       "                                          moves_data  \n",
       "0  [(moves pawn to e4., {'special': False, 'piece...  \n",
       "1  [(moves pawn to e4., {'special': False, 'piece...  \n",
       "2  [(moves pawn to e4., {'special': False, 'piece...  \n",
       "3  [(moves pawn to e4., {'special': False, 'piece...  \n",
       "4  [(moves pawn to e4., {'special': False, 'piece...  \n",
       "\n",
       "[5 rows x 28 columns]"
      ]
     },
     "execution_count": 15,
     "metadata": {},
     "output_type": "execute_result"
    }
   ],
   "source": [
    "df.head()"
   ]
  },
  {
   "cell_type": "markdown",
   "metadata": {},
   "source": [
    "# Explore Data"
   ]
  },
  {
   "cell_type": "code",
   "execution_count": 16,
   "metadata": {},
   "outputs": [],
   "source": [
    "import matplotlib.pyplot as plt\n",
    "plt.rcParams['figure.figsize'] = [18,6]"
   ]
  },
  {
   "cell_type": "markdown",
   "metadata": {},
   "source": [
    "### Win Rates"
   ]
  },
  {
   "cell_type": "code",
   "execution_count": 17,
   "metadata": {},
   "outputs": [],
   "source": [
    "f_count_wins=lambda df:df[df[\"winner_colour\"]==df[\"my_colour\"]].shape[0]"
   ]
  },
  {
   "cell_type": "code",
   "execution_count": 18,
   "metadata": {},
   "outputs": [
    {
     "name": "stdout",
     "output_type": "stream",
     "text": [
      "I have won 418 games out of 896. A win-rate of 46.7%\n"
     ]
    }
   ],
   "source": [
    "n_games=df.shape[0]\n",
    "n_wins=f_count_wins(df)\n",
    "\n",
    "print(\"I have won {:,} games out of {:,}. A win-rate of {:.1f}%\".format(n_wins,n_games,100*(n_wins/n_games)))"
   ]
  },
  {
   "cell_type": "code",
   "execution_count": 19,
   "metadata": {},
   "outputs": [
    {
     "name": "stdout",
     "output_type": "stream",
     "text": [
      "I have played as white in 445 games, winning 226. A win-rate of 50.8%\n"
     ]
    }
   ],
   "source": [
    "white_games_df=df[df[\"my_colour\"]==\"white\"]\n",
    "\n",
    "n_white_games=white_games_df.shape[0]\n",
    "n_white_wins =f_count_wins(white_games_df)\n",
    "\n",
    "print(\"I have played as white in {:,} games, winning {:,}. A win-rate of {:.1f}%\".format(n_white_games,n_white_wins,100*(n_white_wins/n_white_games)))"
   ]
  },
  {
   "cell_type": "code",
   "execution_count": 20,
   "metadata": {},
   "outputs": [
    {
     "name": "stdout",
     "output_type": "stream",
     "text": [
      "I have played as black in 451 games, winning 192. A win-rate of 42.6%\n"
     ]
    }
   ],
   "source": [
    "black_games_df=df[df[\"my_colour\"]==\"black\"]\n",
    "\n",
    "n_black_games=black_games_df.shape[0]\n",
    "n_black_wins =f_count_wins(black_games_df)\n",
    "\n",
    "print(\"I have played as black in {:,} games, winning {:,}. A win-rate of {:.1f}%\".format(n_black_games,n_black_wins,100*(n_black_wins/n_black_games)))"
   ]
  },
  {
   "cell_type": "code",
   "execution_count": 21,
   "metadata": {},
   "outputs": [
    {
     "data": {
      "text/plain": [
       "Text(0.5, 1.0, 'Win-Rates vs My Colour')"
      ]
     },
     "execution_count": 21,
     "metadata": {},
     "output_type": "execute_result"
    },
    {
     "data": {
      "image/png": "[encoded data removed]",
      "text/plain": [
       "<Figure size 1296x432 with 1 Axes>"
      ]
     },
     "metadata": {
      "needs_background": "light"
     },
     "output_type": "display_data"
    }
   ],
   "source": [
    "win_rates=[n_wins/n_games,n_white_wins/n_white_games,n_black_wins/n_black_games]\n",
    "plt.bar(x=[0,1,2],height=win_rates,width=.8,tick_label=[\"Overall\",\"White\",\"Black\"],color=[\"#777\",\"#ddd\",\"#000\"])\n",
    "plt.ylim(0,.6)\n",
    "plt.title(\"Win-Rates vs My Colour\")"
   ]
  },
  {
   "cell_type": "markdown",
   "metadata": {},
   "source": [
    "### Rolling Win Rate"
   ]
  },
  {
   "cell_type": "code",
   "execution_count": 22,
   "metadata": {},
   "outputs": [],
   "source": [
    "def calc_cum_wins_losses(df) -> (pd.Series,pd.Series):\n",
    "    cum_wins=(df[\"my_colour\"]==df[\"winner_colour\"]).cumsum()\n",
    "    cum_wins=cum_wins.reset_index(drop=True)\n",
    "    cum_losses=pd.Series(range(1,cum_wins.shape[0]+1))-cum_wins\n",
    "    return cum_wins,cum_losses"
   ]
  },
  {
   "cell_type": "code",
   "execution_count": 23,
   "metadata": {},
   "outputs": [],
   "source": [
    "# all games\n",
    "cum_wins_all,cum_losses_all=calc_cum_wins_losses(df)\n",
    "\n",
    "# white games\n",
    "cum_wins_white,cum_losses_white=calc_cum_wins_losses(df[df[\"my_colour\"]==\"white\"])\n",
    "\n",
    "# white games\n",
    "cum_wins_black,cum_losses_black=calc_cum_wins_losses(df[df[\"my_colour\"]==\"black\"])"
   ]
  },
  {
   "cell_type": "code",
   "execution_count": 24,
   "metadata": {},
   "outputs": [
    {
     "data": {
      "text/plain": [
       "0        1\n",
       "1        1\n",
       "2        1\n",
       "3        1\n",
       "4        1\n",
       "      ... \n",
       "440    225\n",
       "441    226\n",
       "442    226\n",
       "443    226\n",
       "444    226\n",
       "Length: 445, dtype: int32"
      ]
     },
     "execution_count": 24,
     "metadata": {},
     "output_type": "execute_result"
    }
   ],
   "source": [
    "cum_wins_white"
   ]
  },
  {
   "cell_type": "code",
   "execution_count": 25,
   "metadata": {},
   "outputs": [],
   "source": [
    "def plot_cum_wins_losses(ax,wins,losses,legend=False,title=None):\n",
    "    # plot data\n",
    "    ax.plot(wins,c=\"green\",label=\"Wins\")\n",
    "    ax.plot(losses,c=\"red\",label=\"Losses\")\n",
    "    \n",
    "    # text\n",
    "    if legend: ax.legend()\n",
    "    if title: ax.set_title(title)\n",
    "    ax.set_xlabel(\"Games Played\")\n",
    "    ax.set_ylabel(\"Count\")\n",
    "\n",
    "    # plot line to show net 0\n",
    "    ax.plot(range(len(wins)),np.linspace(start=0,stop=np.ceil(len(wins)/2),num=len(wins)),c=\"black\")\n",
    "    \n",
    "    # emphasise difference\n",
    "    ax.fill_between(x=range(len(wins)),y1=wins,y2=losses, where=(wins<=losses),interpolate=True,color='red',alpha=.2)\n",
    "    ax.fill_between(x=range(len(wins)),y1=wins,y2=losses, where=(wins>=losses),interpolate=True,color='green',alpha=.2)\n",
    "    \n",
    "    # remove margins\n",
    "    ax.margins(0)"
   ]
  },
  {
   "cell_type": "code",
   "execution_count": 26,
   "metadata": {},
   "outputs": [],
   "source": [
    "def plot_net_cum_wins_losses(ax,wins,losses,legend=False,title=None):\n",
    "    # calculate net\n",
    "    net=wins-losses\n",
    "    \n",
    "    # split data into positive,negative and 0\n",
    "    pos=np.ma.masked_where(net<0,net)\n",
    "    neg=np.ma.masked_where(net>0,net)\n",
    "    non=np.ma.masked_where(net!=0,net)\n",
    "    \n",
    "    # plot data (pos=green etc.)\n",
    "    ax.plot(pos,c=\"green\")\n",
    "    ax.plot(neg,c=\"red\")\n",
    "    ax.plot(non,c=\"gray\")\n",
    "    \n",
    "    # plot line to show net 0\n",
    "    ax.axhline(y=0,c=\"black\")\n",
    "    \n",
    "    # text\n",
    "    if title: ax.set_title(title)\n",
    "    ax.set_xlabel(\"Games Played\")\n",
    "    ax.set_ylabel(\"Net Count\")\n",
    "    \n",
    "    # remove margins\n",
    "    ax.margins(0)"
   ]
  },
  {
   "cell_type": "code",
   "execution_count": 27,
   "metadata": {},
   "outputs": [
    {
     "data": {
      "image/png": "[encoded data removed]",
      "text/plain": [
       "<Figure size 1296x864 with 6 Axes>"
      ]
     },
     "metadata": {
      "needs_background": "light"
     },
     "output_type": "display_data"
    }
   ],
   "source": [
    "fig,ax=plt.subplots(nrows=2,ncols=3,figsize=(18,12))\n",
    "\n",
    "plot_cum_wins_losses(ax[0,0],cum_wins_all,cum_losses_all,legend=True,title=\"Cummulative Wins-Losses (All Games)\")\n",
    "plot_cum_wins_losses(ax[0,1],cum_wins_white,cum_losses_white,legend=True,title=\"Cummulative Wins-Losses (White Games)\")\n",
    "plot_cum_wins_losses(ax[0,2],cum_wins_black,cum_losses_black,legend=True,title=\"Cummulative Wins-Losses (Black Games)\")\n",
    "\n",
    "plot_net_cum_wins_losses(ax[1,0],cum_wins_all,cum_losses_all,legend=True,title=\"Net Wins-Losses (All Games)\")\n",
    "plot_net_cum_wins_losses(ax[1,1],cum_wins_white,cum_losses_white,legend=True,title=\"Net Wins-Losses (White Games)\")\n",
    "plot_net_cum_wins_losses(ax[1,2],cum_wins_black,cum_losses_black,legend=True,title=\"Net Wins-Losses (Black Games)\")"
   ]
  },
  {
   "cell_type": "markdown",
   "metadata": {},
   "source": [
    "Basically, I am shite at playing as black"
   ]
  }
 ],
 "metadata": {
  "kernelspec": {
   "display_name": "Python 3",
   "language": "python",
   "name": "python3"
  },
  "language_info": {
   "codemirror_mode": {
    "name": "ipython",
    "version": 3
   },
   "file_extension": ".py",
   "mimetype": "text/x-python",
   "name": "python",
   "nbconvert_exporter": "python",
   "pygments_lexer": "ipython3",
   "version": "3.7.9"
  }
 },
 "nbformat": 4,
 "nbformat_minor": 4
}
